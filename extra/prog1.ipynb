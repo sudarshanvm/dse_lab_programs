{
 "cells": [
  {
   "cell_type": "markdown",
   "metadata": {},
   "source": [
    "# Program 1"
   ]
  },
  {
   "cell_type": "code",
   "execution_count": 1,
   "metadata": {},
   "outputs": [],
   "source": [
    "import pandas as pd\n",
    "import numpy as np\n",
    "import seaborn as sns"
   ]
  },
  {
   "cell_type": "markdown",
   "metadata": {},
   "source": [
    "## Reading data"
   ]
  },
  {
   "cell_type": "code",
   "execution_count": 2,
   "metadata": {},
   "outputs": [
    {
     "data": {
      "text/html": [
       "<div>\n",
       "<style scoped>\n",
       "    .dataframe tbody tr th:only-of-type {\n",
       "        vertical-align: middle;\n",
       "    }\n",
       "\n",
       "    .dataframe tbody tr th {\n",
       "        vertical-align: top;\n",
       "    }\n",
       "\n",
       "    .dataframe thead th {\n",
       "        text-align: right;\n",
       "    }\n",
       "</style>\n",
       "<table border=\"1\" class=\"dataframe\">\n",
       "  <thead>\n",
       "    <tr style=\"text-align: right;\">\n",
       "      <th></th>\n",
       "      <th>adult</th>\n",
       "      <th>belongs_to_collection</th>\n",
       "      <th>budget</th>\n",
       "      <th>genres</th>\n",
       "      <th>homepage</th>\n",
       "      <th>id</th>\n",
       "      <th>imdb_id</th>\n",
       "      <th>original_language</th>\n",
       "      <th>original_title</th>\n",
       "      <th>overview</th>\n",
       "      <th>...</th>\n",
       "      <th>release_date</th>\n",
       "      <th>revenue</th>\n",
       "      <th>runtime</th>\n",
       "      <th>spoken_languages</th>\n",
       "      <th>status</th>\n",
       "      <th>tagline</th>\n",
       "      <th>title</th>\n",
       "      <th>video</th>\n",
       "      <th>vote_average</th>\n",
       "      <th>vote_count</th>\n",
       "    </tr>\n",
       "  </thead>\n",
       "  <tbody>\n",
       "    <tr>\n",
       "      <th>0</th>\n",
       "      <td>False</td>\n",
       "      <td>{'id': 10194, 'name': 'Toy Story Collection', ...</td>\n",
       "      <td>30000000</td>\n",
       "      <td>[{'id': 16, 'name': 'Animation'}, {'id': 35, '...</td>\n",
       "      <td>http://toystory.disney.com/toy-story</td>\n",
       "      <td>862</td>\n",
       "      <td>tt0114709</td>\n",
       "      <td>en</td>\n",
       "      <td>Toy Story</td>\n",
       "      <td>Led by Woody, Andy's toys live happily in his ...</td>\n",
       "      <td>...</td>\n",
       "      <td>1995-10-30</td>\n",
       "      <td>373554033</td>\n",
       "      <td>81.0</td>\n",
       "      <td>[{'iso_639_1': 'en', 'name': 'English'}]</td>\n",
       "      <td>Released</td>\n",
       "      <td>NaN</td>\n",
       "      <td>Toy Story</td>\n",
       "      <td>False</td>\n",
       "      <td>7.7</td>\n",
       "      <td>5415</td>\n",
       "    </tr>\n",
       "    <tr>\n",
       "      <th>1</th>\n",
       "      <td>False</td>\n",
       "      <td>NaN</td>\n",
       "      <td>65000000</td>\n",
       "      <td>[{'id': 12, 'name': 'Adventure'}, {'id': 14, '...</td>\n",
       "      <td>NaN</td>\n",
       "      <td>8844</td>\n",
       "      <td>tt0113497</td>\n",
       "      <td>en</td>\n",
       "      <td>Jumanji</td>\n",
       "      <td>When siblings Judy and Peter discover an encha...</td>\n",
       "      <td>...</td>\n",
       "      <td>1995-12-15</td>\n",
       "      <td>262797249</td>\n",
       "      <td>104.0</td>\n",
       "      <td>[{'iso_639_1': 'en', 'name': 'English'}, {'iso...</td>\n",
       "      <td>Released</td>\n",
       "      <td>Roll the dice and unleash the excitement!</td>\n",
       "      <td>Jumanji</td>\n",
       "      <td>False</td>\n",
       "      <td>6.9</td>\n",
       "      <td>2413</td>\n",
       "    </tr>\n",
       "    <tr>\n",
       "      <th>2</th>\n",
       "      <td>False</td>\n",
       "      <td>{'id': 119050, 'name': 'Grumpy Old Men Collect...</td>\n",
       "      <td>0</td>\n",
       "      <td>[{'id': 10749, 'name': 'Romance'}, {'id': 35, ...</td>\n",
       "      <td>NaN</td>\n",
       "      <td>15602</td>\n",
       "      <td>tt0113228</td>\n",
       "      <td>en</td>\n",
       "      <td>Grumpier Old Men</td>\n",
       "      <td>A family wedding reignites the ancient feud be...</td>\n",
       "      <td>...</td>\n",
       "      <td>1995-12-22</td>\n",
       "      <td>0</td>\n",
       "      <td>101.0</td>\n",
       "      <td>[{'iso_639_1': 'en', 'name': 'English'}]</td>\n",
       "      <td>Released</td>\n",
       "      <td>Still Yelling. Still Fighting. Still Ready for...</td>\n",
       "      <td>Grumpier Old Men</td>\n",
       "      <td>False</td>\n",
       "      <td>6.5</td>\n",
       "      <td>92</td>\n",
       "    </tr>\n",
       "    <tr>\n",
       "      <th>3</th>\n",
       "      <td>False</td>\n",
       "      <td>NaN</td>\n",
       "      <td>16000000</td>\n",
       "      <td>[{'id': 35, 'name': 'Comedy'}, {'id': 18, 'nam...</td>\n",
       "      <td>NaN</td>\n",
       "      <td>31357</td>\n",
       "      <td>tt0114885</td>\n",
       "      <td>en</td>\n",
       "      <td>Waiting to Exhale</td>\n",
       "      <td>Cheated on, mistreated and stepped on, the wom...</td>\n",
       "      <td>...</td>\n",
       "      <td>1995-12-22</td>\n",
       "      <td>81452156</td>\n",
       "      <td>127.0</td>\n",
       "      <td>[{'iso_639_1': 'en', 'name': 'English'}]</td>\n",
       "      <td>Released</td>\n",
       "      <td>Friends are the people who let you be yourself...</td>\n",
       "      <td>Waiting to Exhale</td>\n",
       "      <td>False</td>\n",
       "      <td>6.1</td>\n",
       "      <td>34</td>\n",
       "    </tr>\n",
       "    <tr>\n",
       "      <th>4</th>\n",
       "      <td>False</td>\n",
       "      <td>{'id': 96871, 'name': 'Father of the Bride Col...</td>\n",
       "      <td>0</td>\n",
       "      <td>[{'id': 35, 'name': 'Comedy'}]</td>\n",
       "      <td>NaN</td>\n",
       "      <td>11862</td>\n",
       "      <td>tt0113041</td>\n",
       "      <td>en</td>\n",
       "      <td>Father of the Bride Part II</td>\n",
       "      <td>Just when George Banks has recovered from his ...</td>\n",
       "      <td>...</td>\n",
       "      <td>1995-02-10</td>\n",
       "      <td>76578911</td>\n",
       "      <td>106.0</td>\n",
       "      <td>[{'iso_639_1': 'en', 'name': 'English'}]</td>\n",
       "      <td>Released</td>\n",
       "      <td>Just When His World Is Back To Normal... He's ...</td>\n",
       "      <td>Father of the Bride Part II</td>\n",
       "      <td>False</td>\n",
       "      <td>5.7</td>\n",
       "      <td>173</td>\n",
       "    </tr>\n",
       "  </tbody>\n",
       "</table>\n",
       "<p>5 rows × 24 columns</p>\n",
       "</div>"
      ],
      "text/plain": [
       "   adult                              belongs_to_collection    budget  \\\n",
       "0  False  {'id': 10194, 'name': 'Toy Story Collection', ...  30000000   \n",
       "1  False                                                NaN  65000000   \n",
       "2  False  {'id': 119050, 'name': 'Grumpy Old Men Collect...         0   \n",
       "3  False                                                NaN  16000000   \n",
       "4  False  {'id': 96871, 'name': 'Father of the Bride Col...         0   \n",
       "\n",
       "                                              genres  \\\n",
       "0  [{'id': 16, 'name': 'Animation'}, {'id': 35, '...   \n",
       "1  [{'id': 12, 'name': 'Adventure'}, {'id': 14, '...   \n",
       "2  [{'id': 10749, 'name': 'Romance'}, {'id': 35, ...   \n",
       "3  [{'id': 35, 'name': 'Comedy'}, {'id': 18, 'nam...   \n",
       "4                     [{'id': 35, 'name': 'Comedy'}]   \n",
       "\n",
       "                               homepage     id    imdb_id original_language  \\\n",
       "0  http://toystory.disney.com/toy-story    862  tt0114709                en   \n",
       "1                                   NaN   8844  tt0113497                en   \n",
       "2                                   NaN  15602  tt0113228                en   \n",
       "3                                   NaN  31357  tt0114885                en   \n",
       "4                                   NaN  11862  tt0113041                en   \n",
       "\n",
       "                original_title  \\\n",
       "0                    Toy Story   \n",
       "1                      Jumanji   \n",
       "2             Grumpier Old Men   \n",
       "3            Waiting to Exhale   \n",
       "4  Father of the Bride Part II   \n",
       "\n",
       "                                            overview  ... release_date  \\\n",
       "0  Led by Woody, Andy's toys live happily in his ...  ...   1995-10-30   \n",
       "1  When siblings Judy and Peter discover an encha...  ...   1995-12-15   \n",
       "2  A family wedding reignites the ancient feud be...  ...   1995-12-22   \n",
       "3  Cheated on, mistreated and stepped on, the wom...  ...   1995-12-22   \n",
       "4  Just when George Banks has recovered from his ...  ...   1995-02-10   \n",
       "\n",
       "     revenue runtime                                   spoken_languages  \\\n",
       "0  373554033    81.0           [{'iso_639_1': 'en', 'name': 'English'}]   \n",
       "1  262797249   104.0  [{'iso_639_1': 'en', 'name': 'English'}, {'iso...   \n",
       "2          0   101.0           [{'iso_639_1': 'en', 'name': 'English'}]   \n",
       "3   81452156   127.0           [{'iso_639_1': 'en', 'name': 'English'}]   \n",
       "4   76578911   106.0           [{'iso_639_1': 'en', 'name': 'English'}]   \n",
       "\n",
       "     status                                            tagline  \\\n",
       "0  Released                                                NaN   \n",
       "1  Released          Roll the dice and unleash the excitement!   \n",
       "2  Released  Still Yelling. Still Fighting. Still Ready for...   \n",
       "3  Released  Friends are the people who let you be yourself...   \n",
       "4  Released  Just When His World Is Back To Normal... He's ...   \n",
       "\n",
       "                         title  video vote_average vote_count  \n",
       "0                    Toy Story  False          7.7       5415  \n",
       "1                      Jumanji  False          6.9       2413  \n",
       "2             Grumpier Old Men  False          6.5         92  \n",
       "3            Waiting to Exhale  False          6.1         34  \n",
       "4  Father of the Bride Part II  False          5.7        173  \n",
       "\n",
       "[5 rows x 24 columns]"
      ]
     },
     "execution_count": 2,
     "metadata": {},
     "output_type": "execute_result"
    }
   ],
   "source": [
    "df=pd.read_csv(\"P1_movies_metadata.csv\",dtype='unicode')\n",
    "df.head()"
   ]
  },
  {
   "cell_type": "code",
   "execution_count": 3,
   "metadata": {},
   "outputs": [
    {
     "data": {
      "text/plain": [
       "(45466, 24)"
      ]
     },
     "execution_count": 3,
     "metadata": {},
     "output_type": "execute_result"
    }
   ],
   "source": [
    "df.shape#size of the file in rows and columns"
   ]
  },
  {
   "cell_type": "markdown",
   "metadata": {},
   "source": [
    "# Type of the attributes"
   ]
  },
  {
   "cell_type": "code",
   "execution_count": 4,
   "metadata": {},
   "outputs": [
    {
     "data": {
      "text/plain": [
       "adult                    object\n",
       "belongs_to_collection    object\n",
       "budget                   object\n",
       "genres                   object\n",
       "homepage                 object\n",
       "id                       object\n",
       "imdb_id                  object\n",
       "original_language        object\n",
       "original_title           object\n",
       "overview                 object\n",
       "popularity               object\n",
       "poster_path              object\n",
       "production_companies     object\n",
       "production_countries     object\n",
       "release_date             object\n",
       "revenue                  object\n",
       "runtime                  object\n",
       "spoken_languages         object\n",
       "status                   object\n",
       "tagline                  object\n",
       "title                    object\n",
       "video                    object\n",
       "vote_average             object\n",
       "vote_count               object\n",
       "dtype: object"
      ]
     },
     "execution_count": 4,
     "metadata": {},
     "output_type": "execute_result"
    }
   ],
   "source": [
    "df.dtypes"
   ]
  },
  {
   "cell_type": "code",
   "execution_count": 5,
   "metadata": {},
   "outputs": [
    {
     "name": "stdout",
     "output_type": "stream",
     "text": [
      "adult   <class 'str'>\n",
      "belongs_to_collection   <class 'str'>\n",
      "budget   <class 'str'>\n",
      "genres   <class 'str'>\n",
      "homepage   <class 'str'>\n",
      "id   <class 'str'>\n",
      "imdb_id   <class 'str'>\n",
      "original_language   <class 'str'>\n",
      "original_title   <class 'str'>\n",
      "overview   <class 'str'>\n",
      "popularity   <class 'str'>\n",
      "poster_path   <class 'str'>\n",
      "production_companies   <class 'str'>\n",
      "production_countries   <class 'str'>\n",
      "release_date   <class 'str'>\n",
      "revenue   <class 'str'>\n",
      "runtime   <class 'str'>\n",
      "spoken_languages   <class 'str'>\n",
      "status   <class 'str'>\n",
      "tagline   <class 'float'>\n",
      "title   <class 'str'>\n",
      "video   <class 'str'>\n",
      "vote_average   <class 'str'>\n",
      "vote_count   <class 'str'>\n"
     ]
    }
   ],
   "source": [
    "for i in df.columns:\n",
    "    print(i,\" \",type(df[i][0]))"
   ]
  },
  {
   "cell_type": "markdown",
   "metadata": {},
   "source": [
    "## Attributes which are in json string format"
   ]
  },
  {
   "cell_type": "code",
   "execution_count": 6,
   "metadata": {},
   "outputs": [
    {
     "data": {
      "text/plain": [
       "\"{'id': 10194, 'name': 'Toy Story Collection', 'poster_path': '/7G9915LfUQ2lVfwMEEhDsn3kT4B.jpg', 'backdrop_path': '/9FBwqcd9IRruEDUrTdcaafOMKUq.jpg'}\""
      ]
     },
     "execution_count": 6,
     "metadata": {},
     "output_type": "execute_result"
    }
   ],
   "source": [
    "df['belongs_to_collection'][0]"
   ]
  },
  {
   "cell_type": "code",
   "execution_count": 7,
   "metadata": {},
   "outputs": [
    {
     "data": {
      "text/plain": [
       "\"[{'id': 16, 'name': 'Animation'}, {'id': 35, 'name': 'Comedy'}, {'id': 10751, 'name': 'Family'}]\""
      ]
     },
     "execution_count": 7,
     "metadata": {},
     "output_type": "execute_result"
    }
   ],
   "source": [
    "df['genres'][0]"
   ]
  },
  {
   "cell_type": "code",
   "execution_count": 8,
   "metadata": {},
   "outputs": [
    {
     "data": {
      "text/plain": [
       "\"Led by Woody, Andy's toys live happily in his room until Andy's birthday brings Buzz Lightyear onto the scene. Afraid of losing his place in Andy's heart, Woody plots against Buzz. But when circumstances separate Buzz and Woody from their owner, the duo eventually learns to put aside their differences.\""
      ]
     },
     "execution_count": 8,
     "metadata": {},
     "output_type": "execute_result"
    }
   ],
   "source": [
    "df['overview'][0]"
   ]
  },
  {
   "cell_type": "code",
   "execution_count": 9,
   "metadata": {},
   "outputs": [
    {
     "data": {
      "text/plain": [
       "\"[{'iso_639_1': 'en', 'name': 'English'}]\""
      ]
     },
     "execution_count": 9,
     "metadata": {},
     "output_type": "execute_result"
    }
   ],
   "source": [
    "df['spoken_languages'][0]"
   ]
  },
  {
   "cell_type": "code",
   "execution_count": 10,
   "metadata": {},
   "outputs": [
    {
     "data": {
      "text/html": [
       "<div>\n",
       "<style scoped>\n",
       "    .dataframe tbody tr th:only-of-type {\n",
       "        vertical-align: middle;\n",
       "    }\n",
       "\n",
       "    .dataframe tbody tr th {\n",
       "        vertical-align: top;\n",
       "    }\n",
       "\n",
       "    .dataframe thead th {\n",
       "        text-align: right;\n",
       "    }\n",
       "</style>\n",
       "<table border=\"1\" class=\"dataframe\">\n",
       "  <thead>\n",
       "    <tr style=\"text-align: right;\">\n",
       "      <th></th>\n",
       "      <th>adult</th>\n",
       "      <th>belongs_to_collection</th>\n",
       "      <th>budget</th>\n",
       "      <th>genres</th>\n",
       "      <th>homepage</th>\n",
       "      <th>id</th>\n",
       "      <th>imdb_id</th>\n",
       "      <th>original_language</th>\n",
       "      <th>original_title</th>\n",
       "      <th>overview</th>\n",
       "      <th>...</th>\n",
       "      <th>release_date</th>\n",
       "      <th>revenue</th>\n",
       "      <th>runtime</th>\n",
       "      <th>spoken_languages</th>\n",
       "      <th>status</th>\n",
       "      <th>tagline</th>\n",
       "      <th>title</th>\n",
       "      <th>video</th>\n",
       "      <th>vote_average</th>\n",
       "      <th>vote_count</th>\n",
       "    </tr>\n",
       "  </thead>\n",
       "  <tbody>\n",
       "    <tr>\n",
       "      <th>count</th>\n",
       "      <td>45466</td>\n",
       "      <td>4494</td>\n",
       "      <td>45466</td>\n",
       "      <td>45466</td>\n",
       "      <td>7782</td>\n",
       "      <td>45466</td>\n",
       "      <td>45449</td>\n",
       "      <td>45455</td>\n",
       "      <td>45466</td>\n",
       "      <td>44512</td>\n",
       "      <td>...</td>\n",
       "      <td>45379</td>\n",
       "      <td>45460</td>\n",
       "      <td>45203</td>\n",
       "      <td>45460</td>\n",
       "      <td>45379</td>\n",
       "      <td>20412</td>\n",
       "      <td>45460</td>\n",
       "      <td>45460</td>\n",
       "      <td>45460</td>\n",
       "      <td>45460</td>\n",
       "    </tr>\n",
       "    <tr>\n",
       "      <th>unique</th>\n",
       "      <td>5</td>\n",
       "      <td>1698</td>\n",
       "      <td>1226</td>\n",
       "      <td>4069</td>\n",
       "      <td>7673</td>\n",
       "      <td>45436</td>\n",
       "      <td>45417</td>\n",
       "      <td>92</td>\n",
       "      <td>43373</td>\n",
       "      <td>44307</td>\n",
       "      <td>...</td>\n",
       "      <td>17336</td>\n",
       "      <td>6863</td>\n",
       "      <td>353</td>\n",
       "      <td>1931</td>\n",
       "      <td>6</td>\n",
       "      <td>20283</td>\n",
       "      <td>42277</td>\n",
       "      <td>2</td>\n",
       "      <td>92</td>\n",
       "      <td>1820</td>\n",
       "    </tr>\n",
       "    <tr>\n",
       "      <th>top</th>\n",
       "      <td>False</td>\n",
       "      <td>{'id': 415931, 'name': 'The Bowery Boys', 'pos...</td>\n",
       "      <td>0</td>\n",
       "      <td>[{'id': 18, 'name': 'Drama'}]</td>\n",
       "      <td>http://www.georgecarlin.com</td>\n",
       "      <td>141971</td>\n",
       "      <td>0</td>\n",
       "      <td>en</td>\n",
       "      <td>Hamlet</td>\n",
       "      <td>No overview found.</td>\n",
       "      <td>...</td>\n",
       "      <td>2008-01-01</td>\n",
       "      <td>0</td>\n",
       "      <td>90.0</td>\n",
       "      <td>[{'iso_639_1': 'en', 'name': 'English'}]</td>\n",
       "      <td>Released</td>\n",
       "      <td>Based on a true story.</td>\n",
       "      <td>Cinderella</td>\n",
       "      <td>False</td>\n",
       "      <td>0.0</td>\n",
       "      <td>1</td>\n",
       "    </tr>\n",
       "    <tr>\n",
       "      <th>freq</th>\n",
       "      <td>45454</td>\n",
       "      <td>29</td>\n",
       "      <td>36573</td>\n",
       "      <td>5000</td>\n",
       "      <td>12</td>\n",
       "      <td>3</td>\n",
       "      <td>3</td>\n",
       "      <td>32269</td>\n",
       "      <td>8</td>\n",
       "      <td>133</td>\n",
       "      <td>...</td>\n",
       "      <td>136</td>\n",
       "      <td>38052</td>\n",
       "      <td>2556</td>\n",
       "      <td>22395</td>\n",
       "      <td>45014</td>\n",
       "      <td>7</td>\n",
       "      <td>11</td>\n",
       "      <td>45367</td>\n",
       "      <td>2998</td>\n",
       "      <td>3264</td>\n",
       "    </tr>\n",
       "  </tbody>\n",
       "</table>\n",
       "<p>4 rows × 24 columns</p>\n",
       "</div>"
      ],
      "text/plain": [
       "        adult                              belongs_to_collection budget  \\\n",
       "count   45466                                               4494  45466   \n",
       "unique      5                                               1698   1226   \n",
       "top     False  {'id': 415931, 'name': 'The Bowery Boys', 'pos...      0   \n",
       "freq    45454                                                 29  36573   \n",
       "\n",
       "                               genres                     homepage      id  \\\n",
       "count                           45466                         7782   45466   \n",
       "unique                           4069                         7673   45436   \n",
       "top     [{'id': 18, 'name': 'Drama'}]  http://www.georgecarlin.com  141971   \n",
       "freq                             5000                           12       3   \n",
       "\n",
       "       imdb_id original_language original_title            overview  ...  \\\n",
       "count    45449             45455          45466               44512  ...   \n",
       "unique   45417                92          43373               44307  ...   \n",
       "top          0                en         Hamlet  No overview found.  ...   \n",
       "freq         3             32269              8                 133  ...   \n",
       "\n",
       "       release_date revenue runtime                          spoken_languages  \\\n",
       "count         45379   45460   45203                                     45460   \n",
       "unique        17336    6863     353                                      1931   \n",
       "top      2008-01-01       0    90.0  [{'iso_639_1': 'en', 'name': 'English'}]   \n",
       "freq            136   38052    2556                                     22395   \n",
       "\n",
       "          status                 tagline       title  video vote_average  \\\n",
       "count      45379                   20412       45460  45460        45460   \n",
       "unique         6                   20283       42277      2           92   \n",
       "top     Released  Based on a true story.  Cinderella  False          0.0   \n",
       "freq       45014                       7          11  45367         2998   \n",
       "\n",
       "       vote_count  \n",
       "count       45460  \n",
       "unique       1820  \n",
       "top             1  \n",
       "freq         3264  \n",
       "\n",
       "[4 rows x 24 columns]"
      ]
     },
     "execution_count": 10,
     "metadata": {},
     "output_type": "execute_result"
    }
   ],
   "source": [
    "df.describe()"
   ]
  },
  {
   "cell_type": "code",
   "execution_count": 11,
   "metadata": {},
   "outputs": [
    {
     "name": "stdout",
     "output_type": "stream",
     "text": [
      "<class 'pandas.core.frame.DataFrame'>\n",
      "RangeIndex: 45466 entries, 0 to 45465\n",
      "Data columns (total 24 columns):\n",
      " #   Column                 Non-Null Count  Dtype \n",
      "---  ------                 --------------  ----- \n",
      " 0   adult                  45466 non-null  object\n",
      " 1   belongs_to_collection  4494 non-null   object\n",
      " 2   budget                 45466 non-null  object\n",
      " 3   genres                 45466 non-null  object\n",
      " 4   homepage               7782 non-null   object\n",
      " 5   id                     45466 non-null  object\n",
      " 6   imdb_id                45449 non-null  object\n",
      " 7   original_language      45455 non-null  object\n",
      " 8   original_title         45466 non-null  object\n",
      " 9   overview               44512 non-null  object\n",
      " 10  popularity             45461 non-null  object\n",
      " 11  poster_path            45080 non-null  object\n",
      " 12  production_companies   45463 non-null  object\n",
      " 13  production_countries   45463 non-null  object\n",
      " 14  release_date           45379 non-null  object\n",
      " 15  revenue                45460 non-null  object\n",
      " 16  runtime                45203 non-null  object\n",
      " 17  spoken_languages       45460 non-null  object\n",
      " 18  status                 45379 non-null  object\n",
      " 19  tagline                20412 non-null  object\n",
      " 20  title                  45460 non-null  object\n",
      " 21  video                  45460 non-null  object\n",
      " 22  vote_average           45460 non-null  object\n",
      " 23  vote_count             45460 non-null  object\n",
      "dtypes: object(24)\n",
      "memory usage: 8.3+ MB\n"
     ]
    }
   ],
   "source": [
    "df.info()"
   ]
  },
  {
   "cell_type": "code",
   "execution_count": 12,
   "metadata": {},
   "outputs": [
    {
     "data": {
      "text/plain": [
       "Index(['adult', 'belongs_to_collection', 'budget', 'genres', 'homepage', 'id',\n",
       "       'imdb_id', 'original_language', 'original_title', 'overview',\n",
       "       'popularity', 'poster_path', 'production_companies',\n",
       "       'production_countries', 'release_date', 'revenue', 'runtime',\n",
       "       'spoken_languages', 'status', 'tagline', 'title', 'video',\n",
       "       'vote_average', 'vote_count'],\n",
       "      dtype='object')"
      ]
     },
     "execution_count": 12,
     "metadata": {},
     "output_type": "execute_result"
    }
   ],
   "source": [
    "df.columns"
   ]
  },
  {
   "cell_type": "code",
   "execution_count": 13,
   "metadata": {},
   "outputs": [
    {
     "data": {
      "text/plain": [
       "RangeIndex(start=0, stop=45466, step=1)"
      ]
     },
     "execution_count": 13,
     "metadata": {},
     "output_type": "execute_result"
    }
   ],
   "source": [
    "df.index"
   ]
  },
  {
   "cell_type": "markdown",
   "metadata": {},
   "source": [
    "## Changing the formats of the data"
   ]
  },
  {
   "cell_type": "code",
   "execution_count": 14,
   "metadata": {},
   "outputs": [],
   "source": [
    "df['budget']=pd.to_numeric(df['budget'],errors='coerce')"
   ]
  },
  {
   "cell_type": "code",
   "execution_count": 15,
   "metadata": {},
   "outputs": [],
   "source": [
    "df['id']=pd.to_numeric(df['id'],errors='coerce')"
   ]
  },
  {
   "cell_type": "code",
   "execution_count": 16,
   "metadata": {},
   "outputs": [],
   "source": [
    "df['revenue']=pd.to_numeric(df['revenue'],errors='coerce')"
   ]
  },
  {
   "cell_type": "code",
   "execution_count": 17,
   "metadata": {},
   "outputs": [],
   "source": [
    "df['runtime']=pd.to_numeric(df['runtime'],errors='coerce')"
   ]
  },
  {
   "cell_type": "code",
   "execution_count": 18,
   "metadata": {},
   "outputs": [],
   "source": [
    "df['vote_average']=pd.to_numeric(df['vote_average'],errors='coerce')"
   ]
  },
  {
   "cell_type": "code",
   "execution_count": 19,
   "metadata": {},
   "outputs": [],
   "source": [
    "df['vote_count']=pd.to_numeric(df['vote_count'],errors='coerce')"
   ]
  },
  {
   "cell_type": "code",
   "execution_count": 20,
   "metadata": {},
   "outputs": [],
   "source": [
    "df['actual_profit']=df['revenue']-df['budget']"
   ]
  },
  {
   "cell_type": "code",
   "execution_count": 21,
   "metadata": {},
   "outputs": [],
   "source": [
    "df['profit_ratio']=df.apply(lambda row:row['revenue']/row['budget'] if row['budget']!=0 else 0,axis=1)"
   ]
  },
  {
   "cell_type": "code",
   "execution_count": 22,
   "metadata": {},
   "outputs": [
    {
     "data": {
      "text/plain": [
       "0        343554033.0\n",
       "1        197797249.0\n",
       "2                0.0\n",
       "3         65452156.0\n",
       "4         76578911.0\n",
       "            ...     \n",
       "45461            0.0\n",
       "45462            0.0\n",
       "45463            0.0\n",
       "45464            0.0\n",
       "45465            0.0\n",
       "Name: actual_profit, Length: 45466, dtype: float64"
      ]
     },
     "execution_count": 22,
     "metadata": {},
     "output_type": "execute_result"
    }
   ],
   "source": [
    "df['actual_profit']"
   ]
  },
  {
   "cell_type": "markdown",
   "metadata": {},
   "source": [
    "## Corelation matrix"
   ]
  },
  {
   "cell_type": "code",
   "execution_count": 23,
   "metadata": {},
   "outputs": [
    {
     "data": {
      "text/html": [
       "<style  type=\"text/css\" >\n",
       "    #T_5130a55a_32db_11eb_a953_9828a6044abcrow0_col0 {\n",
       "            background-color:  #b40426;\n",
       "            color:  #f1f1f1;\n",
       "        }    #T_5130a55a_32db_11eb_a953_9828a6044abcrow0_col1 {\n",
       "            background-color:  #4b64d5;\n",
       "            color:  #f1f1f1;\n",
       "        }    #T_5130a55a_32db_11eb_a953_9828a6044abcrow0_col2 {\n",
       "            background-color:  #f08b6e;\n",
       "            color:  #000000;\n",
       "        }    #T_5130a55a_32db_11eb_a953_9828a6044abcrow0_col3 {\n",
       "            background-color:  #85a8fc;\n",
       "            color:  #000000;\n",
       "        }    #T_5130a55a_32db_11eb_a953_9828a6044abcrow0_col4 {\n",
       "            background-color:  #7da0f9;\n",
       "            color:  #000000;\n",
       "        }    #T_5130a55a_32db_11eb_a953_9828a6044abcrow0_col5 {\n",
       "            background-color:  #f7ad90;\n",
       "            color:  #000000;\n",
       "        }    #T_5130a55a_32db_11eb_a953_9828a6044abcrow0_col6 {\n",
       "            background-color:  #f5c1a9;\n",
       "            color:  #000000;\n",
       "        }    #T_5130a55a_32db_11eb_a953_9828a6044abcrow0_col7 {\n",
       "            background-color:  #3c4ec2;\n",
       "            color:  #f1f1f1;\n",
       "        }    #T_5130a55a_32db_11eb_a953_9828a6044abcrow1_col0 {\n",
       "            background-color:  #3b4cc0;\n",
       "            color:  #f1f1f1;\n",
       "        }    #T_5130a55a_32db_11eb_a953_9828a6044abcrow1_col1 {\n",
       "            background-color:  #b40426;\n",
       "            color:  #f1f1f1;\n",
       "        }    #T_5130a55a_32db_11eb_a953_9828a6044abcrow1_col2 {\n",
       "            background-color:  #3b4cc0;\n",
       "            color:  #f1f1f1;\n",
       "        }    #T_5130a55a_32db_11eb_a953_9828a6044abcrow1_col3 {\n",
       "            background-color:  #3b4cc0;\n",
       "            color:  #f1f1f1;\n",
       "        }    #T_5130a55a_32db_11eb_a953_9828a6044abcrow1_col4 {\n",
       "            background-color:  #3b4cc0;\n",
       "            color:  #f1f1f1;\n",
       "        }    #T_5130a55a_32db_11eb_a953_9828a6044abcrow1_col5 {\n",
       "            background-color:  #3b4cc0;\n",
       "            color:  #f1f1f1;\n",
       "        }    #T_5130a55a_32db_11eb_a953_9828a6044abcrow1_col6 {\n",
       "            background-color:  #3b4cc0;\n",
       "            color:  #f1f1f1;\n",
       "        }    #T_5130a55a_32db_11eb_a953_9828a6044abcrow1_col7 {\n",
       "            background-color:  #3b4cc0;\n",
       "            color:  #f1f1f1;\n",
       "        }    #T_5130a55a_32db_11eb_a953_9828a6044abcrow2_col0 {\n",
       "            background-color:  #ef886b;\n",
       "            color:  #000000;\n",
       "        }    #T_5130a55a_32db_11eb_a953_9828a6044abcrow2_col1 {\n",
       "            background-color:  #5470de;\n",
       "            color:  #000000;\n",
       "        }    #T_5130a55a_32db_11eb_a953_9828a6044abcrow2_col2 {\n",
       "            background-color:  #b40426;\n",
       "            color:  #f1f1f1;\n",
       "        }    #T_5130a55a_32db_11eb_a953_9828a6044abcrow2_col3 {\n",
       "            background-color:  #7b9ff9;\n",
       "            color:  #000000;\n",
       "        }    #T_5130a55a_32db_11eb_a953_9828a6044abcrow2_col4 {\n",
       "            background-color:  #81a4fb;\n",
       "            color:  #000000;\n",
       "        }    #T_5130a55a_32db_11eb_a953_9828a6044abcrow2_col5 {\n",
       "            background-color:  #e97a5f;\n",
       "            color:  #000000;\n",
       "        }    #T_5130a55a_32db_11eb_a953_9828a6044abcrow2_col6 {\n",
       "            background-color:  #bb1b2c;\n",
       "            color:  #f1f1f1;\n",
       "        }    #T_5130a55a_32db_11eb_a953_9828a6044abcrow2_col7 {\n",
       "            background-color:  #3c4ec2;\n",
       "            color:  #f1f1f1;\n",
       "        }    #T_5130a55a_32db_11eb_a953_9828a6044abcrow3_col0 {\n",
       "            background-color:  #80a3fa;\n",
       "            color:  #000000;\n",
       "        }    #T_5130a55a_32db_11eb_a953_9828a6044abcrow3_col1 {\n",
       "            background-color:  #465ecf;\n",
       "            color:  #f1f1f1;\n",
       "        }    #T_5130a55a_32db_11eb_a953_9828a6044abcrow3_col2 {\n",
       "            background-color:  #6e90f2;\n",
       "            color:  #000000;\n",
       "        }    #T_5130a55a_32db_11eb_a953_9828a6044abcrow3_col3 {\n",
       "            background-color:  #b40426;\n",
       "            color:  #f1f1f1;\n",
       "        }    #T_5130a55a_32db_11eb_a953_9828a6044abcrow3_col4 {\n",
       "            background-color:  #97b8ff;\n",
       "            color:  #000000;\n",
       "        }    #T_5130a55a_32db_11eb_a953_9828a6044abcrow3_col5 {\n",
       "            background-color:  #6f92f3;\n",
       "            color:  #000000;\n",
       "        }    #T_5130a55a_32db_11eb_a953_9828a6044abcrow3_col6 {\n",
       "            background-color:  #6384eb;\n",
       "            color:  #000000;\n",
       "        }    #T_5130a55a_32db_11eb_a953_9828a6044abcrow3_col7 {\n",
       "            background-color:  #3c4ec2;\n",
       "            color:  #f1f1f1;\n",
       "        }    #T_5130a55a_32db_11eb_a953_9828a6044abcrow4_col0 {\n",
       "            background-color:  #6c8ff1;\n",
       "            color:  #000000;\n",
       "        }    #T_5130a55a_32db_11eb_a953_9828a6044abcrow4_col1 {\n",
       "            background-color:  #3b4cc0;\n",
       "            color:  #f1f1f1;\n",
       "        }    #T_5130a55a_32db_11eb_a953_9828a6044abcrow4_col2 {\n",
       "            background-color:  #688aef;\n",
       "            color:  #000000;\n",
       "        }    #T_5130a55a_32db_11eb_a953_9828a6044abcrow4_col3 {\n",
       "            background-color:  #8caffe;\n",
       "            color:  #000000;\n",
       "        }    #T_5130a55a_32db_11eb_a953_9828a6044abcrow4_col4 {\n",
       "            background-color:  #b40426;\n",
       "            color:  #f1f1f1;\n",
       "        }    #T_5130a55a_32db_11eb_a953_9828a6044abcrow4_col5 {\n",
       "            background-color:  #7396f5;\n",
       "            color:  #000000;\n",
       "        }    #T_5130a55a_32db_11eb_a953_9828a6044abcrow4_col6 {\n",
       "            background-color:  #6282ea;\n",
       "            color:  #000000;\n",
       "        }    #T_5130a55a_32db_11eb_a953_9828a6044abcrow4_col7 {\n",
       "            background-color:  #3e51c5;\n",
       "            color:  #f1f1f1;\n",
       "        }    #T_5130a55a_32db_11eb_a953_9828a6044abcrow5_col0 {\n",
       "            background-color:  #f7aa8c;\n",
       "            color:  #000000;\n",
       "        }    #T_5130a55a_32db_11eb_a953_9828a6044abcrow5_col1 {\n",
       "            background-color:  #5572df;\n",
       "            color:  #000000;\n",
       "        }    #T_5130a55a_32db_11eb_a953_9828a6044abcrow5_col2 {\n",
       "            background-color:  #e9785d;\n",
       "            color:  #000000;\n",
       "        }    #T_5130a55a_32db_11eb_a953_9828a6044abcrow5_col3 {\n",
       "            background-color:  #7ea1fa;\n",
       "            color:  #000000;\n",
       "        }    #T_5130a55a_32db_11eb_a953_9828a6044abcrow5_col4 {\n",
       "            background-color:  #8caffe;\n",
       "            color:  #000000;\n",
       "        }    #T_5130a55a_32db_11eb_a953_9828a6044abcrow5_col5 {\n",
       "            background-color:  #b40426;\n",
       "            color:  #f1f1f1;\n",
       "        }    #T_5130a55a_32db_11eb_a953_9828a6044abcrow5_col6 {\n",
       "            background-color:  #f08a6c;\n",
       "            color:  #000000;\n",
       "        }    #T_5130a55a_32db_11eb_a953_9828a6044abcrow5_col7 {\n",
       "            background-color:  #3d50c3;\n",
       "            color:  #f1f1f1;\n",
       "        }    #T_5130a55a_32db_11eb_a953_9828a6044abcrow6_col0 {\n",
       "            background-color:  #f6bda2;\n",
       "            color:  #000000;\n",
       "        }    #T_5130a55a_32db_11eb_a953_9828a6044abcrow6_col1 {\n",
       "            background-color:  #5875e1;\n",
       "            color:  #000000;\n",
       "        }    #T_5130a55a_32db_11eb_a953_9828a6044abcrow6_col2 {\n",
       "            background-color:  #bb1b2c;\n",
       "            color:  #f1f1f1;\n",
       "        }    #T_5130a55a_32db_11eb_a953_9828a6044abcrow6_col3 {\n",
       "            background-color:  #7597f6;\n",
       "            color:  #000000;\n",
       "        }    #T_5130a55a_32db_11eb_a953_9828a6044abcrow6_col4 {\n",
       "            background-color:  #80a3fa;\n",
       "            color:  #000000;\n",
       "        }    #T_5130a55a_32db_11eb_a953_9828a6044abcrow6_col5 {\n",
       "            background-color:  #ef886b;\n",
       "            color:  #000000;\n",
       "        }    #T_5130a55a_32db_11eb_a953_9828a6044abcrow6_col6 {\n",
       "            background-color:  #b40426;\n",
       "            color:  #f1f1f1;\n",
       "        }    #T_5130a55a_32db_11eb_a953_9828a6044abcrow6_col7 {\n",
       "            background-color:  #3d50c3;\n",
       "            color:  #f1f1f1;\n",
       "        }    #T_5130a55a_32db_11eb_a953_9828a6044abcrow7_col0 {\n",
       "            background-color:  #5673e0;\n",
       "            color:  #000000;\n",
       "        }    #T_5130a55a_32db_11eb_a953_9828a6044abcrow7_col1 {\n",
       "            background-color:  #6687ed;\n",
       "            color:  #000000;\n",
       "        }    #T_5130a55a_32db_11eb_a953_9828a6044abcrow7_col2 {\n",
       "            background-color:  #4f69d9;\n",
       "            color:  #000000;\n",
       "        }    #T_5130a55a_32db_11eb_a953_9828a6044abcrow7_col3 {\n",
       "            background-color:  #5b7ae5;\n",
       "            color:  #000000;\n",
       "        }    #T_5130a55a_32db_11eb_a953_9828a6044abcrow7_col4 {\n",
       "            background-color:  #688aef;\n",
       "            color:  #000000;\n",
       "        }    #T_5130a55a_32db_11eb_a953_9828a6044abcrow7_col5 {\n",
       "            background-color:  #4e68d8;\n",
       "            color:  #000000;\n",
       "        }    #T_5130a55a_32db_11eb_a953_9828a6044abcrow7_col6 {\n",
       "            background-color:  #4a63d3;\n",
       "            color:  #f1f1f1;\n",
       "        }    #T_5130a55a_32db_11eb_a953_9828a6044abcrow7_col7 {\n",
       "            background-color:  #b40426;\n",
       "            color:  #f1f1f1;\n",
       "        }</style><table id=\"T_5130a55a_32db_11eb_a953_9828a6044abc\" ><thead>    <tr>        <th class=\"blank level0\" ></th>        <th class=\"col_heading level0 col0\" >budget</th>        <th class=\"col_heading level0 col1\" >id</th>        <th class=\"col_heading level0 col2\" >revenue</th>        <th class=\"col_heading level0 col3\" >runtime</th>        <th class=\"col_heading level0 col4\" >vote_average</th>        <th class=\"col_heading level0 col5\" >vote_count</th>        <th class=\"col_heading level0 col6\" >actual_profit</th>        <th class=\"col_heading level0 col7\" >profit_ratio</th>    </tr></thead><tbody>\n",
       "                <tr>\n",
       "                        <th id=\"T_5130a55a_32db_11eb_a953_9828a6044abclevel0_row0\" class=\"row_heading level0 row0\" >budget</th>\n",
       "                        <td id=\"T_5130a55a_32db_11eb_a953_9828a6044abcrow0_col0\" class=\"data row0 col0\" >1.000000</td>\n",
       "                        <td id=\"T_5130a55a_32db_11eb_a953_9828a6044abcrow0_col1\" class=\"data row0 col1\" >-0.101671</td>\n",
       "                        <td id=\"T_5130a55a_32db_11eb_a953_9828a6044abcrow0_col2\" class=\"data row0 col2\" >0.768776</td>\n",
       "                        <td id=\"T_5130a55a_32db_11eb_a953_9828a6044abcrow0_col3\" class=\"data row0 col3\" >0.134733</td>\n",
       "                        <td id=\"T_5130a55a_32db_11eb_a953_9828a6044abcrow0_col4\" class=\"data row0 col4\" >0.073494</td>\n",
       "                        <td id=\"T_5130a55a_32db_11eb_a953_9828a6044abcrow0_col5\" class=\"data row0 col5\" >0.676642</td>\n",
       "                        <td id=\"T_5130a55a_32db_11eb_a953_9828a6044abcrow0_col6\" class=\"data row0 col6\" >0.614339</td>\n",
       "                        <td id=\"T_5130a55a_32db_11eb_a953_9828a6044abcrow0_col7\" class=\"data row0 col7\" >-0.002132</td>\n",
       "            </tr>\n",
       "            <tr>\n",
       "                        <th id=\"T_5130a55a_32db_11eb_a953_9828a6044abclevel0_row1\" class=\"row_heading level0 row1\" >id</th>\n",
       "                        <td id=\"T_5130a55a_32db_11eb_a953_9828a6044abcrow1_col0\" class=\"data row1 col0\" >-0.101671</td>\n",
       "                        <td id=\"T_5130a55a_32db_11eb_a953_9828a6044abcrow1_col1\" class=\"data row1 col1\" >1.000000</td>\n",
       "                        <td id=\"T_5130a55a_32db_11eb_a953_9828a6044abcrow1_col2\" class=\"data row1 col2\" >-0.071263</td>\n",
       "                        <td id=\"T_5130a55a_32db_11eb_a953_9828a6044abcrow1_col3\" class=\"data row1 col3\" >-0.121399</td>\n",
       "                        <td id=\"T_5130a55a_32db_11eb_a953_9828a6044abcrow1_col4\" class=\"data row1 col4\" >-0.167573</td>\n",
       "                        <td id=\"T_5130a55a_32db_11eb_a953_9828a6044abcrow1_col5\" class=\"data row1 col5\" >-0.064903</td>\n",
       "                        <td id=\"T_5130a55a_32db_11eb_a953_9828a6044abcrow1_col6\" class=\"data row1 col6\" >-0.053950</td>\n",
       "                        <td id=\"T_5130a55a_32db_11eb_a953_9828a6044abcrow1_col7\" class=\"data row1 col7\" >-0.006758</td>\n",
       "            </tr>\n",
       "            <tr>\n",
       "                        <th id=\"T_5130a55a_32db_11eb_a953_9828a6044abclevel0_row2\" class=\"row_heading level0 row2\" >revenue</th>\n",
       "                        <td id=\"T_5130a55a_32db_11eb_a953_9828a6044abcrow2_col0\" class=\"data row2 col0\" >0.768776</td>\n",
       "                        <td id=\"T_5130a55a_32db_11eb_a953_9828a6044abcrow2_col1\" class=\"data row2 col1\" >-0.071263</td>\n",
       "                        <td id=\"T_5130a55a_32db_11eb_a953_9828a6044abcrow2_col2\" class=\"data row2 col2\" >1.000000</td>\n",
       "                        <td id=\"T_5130a55a_32db_11eb_a953_9828a6044abcrow2_col3\" class=\"data row2 col3\" >0.103917</td>\n",
       "                        <td id=\"T_5130a55a_32db_11eb_a953_9828a6044abcrow2_col4\" class=\"data row2 col4\" >0.083868</td>\n",
       "                        <td id=\"T_5130a55a_32db_11eb_a953_9828a6044abcrow2_col5\" class=\"data row2 col5\" >0.812022</td>\n",
       "                        <td id=\"T_5130a55a_32db_11eb_a953_9828a6044abcrow2_col6\" class=\"data row2 col6\" >0.976896</td>\n",
       "                        <td id=\"T_5130a55a_32db_11eb_a953_9828a6044abcrow2_col7\" class=\"data row2 col7\" >0.000794</td>\n",
       "            </tr>\n",
       "            <tr>\n",
       "                        <th id=\"T_5130a55a_32db_11eb_a953_9828a6044abclevel0_row3\" class=\"row_heading level0 row3\" >runtime</th>\n",
       "                        <td id=\"T_5130a55a_32db_11eb_a953_9828a6044abcrow3_col0\" class=\"data row3 col0\" >0.134733</td>\n",
       "                        <td id=\"T_5130a55a_32db_11eb_a953_9828a6044abcrow3_col1\" class=\"data row3 col1\" >-0.121399</td>\n",
       "                        <td id=\"T_5130a55a_32db_11eb_a953_9828a6044abcrow3_col2\" class=\"data row3 col2\" >0.103917</td>\n",
       "                        <td id=\"T_5130a55a_32db_11eb_a953_9828a6044abcrow3_col3\" class=\"data row3 col3\" >1.000000</td>\n",
       "                        <td id=\"T_5130a55a_32db_11eb_a953_9828a6044abcrow3_col4\" class=\"data row3 col4\" >0.158146</td>\n",
       "                        <td id=\"T_5130a55a_32db_11eb_a953_9828a6044abcrow3_col5\" class=\"data row3 col5\" >0.113539</td>\n",
       "                        <td id=\"T_5130a55a_32db_11eb_a953_9828a6044abcrow3_col6\" class=\"data row3 col6\" >0.083189</td>\n",
       "                        <td id=\"T_5130a55a_32db_11eb_a953_9828a6044abcrow3_col7\" class=\"data row3 col7\" >0.000901</td>\n",
       "            </tr>\n",
       "            <tr>\n",
       "                        <th id=\"T_5130a55a_32db_11eb_a953_9828a6044abclevel0_row4\" class=\"row_heading level0 row4\" >vote_average</th>\n",
       "                        <td id=\"T_5130a55a_32db_11eb_a953_9828a6044abcrow4_col0\" class=\"data row4 col0\" >0.073494</td>\n",
       "                        <td id=\"T_5130a55a_32db_11eb_a953_9828a6044abcrow4_col1\" class=\"data row4 col1\" >-0.167573</td>\n",
       "                        <td id=\"T_5130a55a_32db_11eb_a953_9828a6044abcrow4_col2\" class=\"data row4 col2\" >0.083868</td>\n",
       "                        <td id=\"T_5130a55a_32db_11eb_a953_9828a6044abcrow4_col3\" class=\"data row4 col3\" >0.158146</td>\n",
       "                        <td id=\"T_5130a55a_32db_11eb_a953_9828a6044abcrow4_col4\" class=\"data row4 col4\" >1.000000</td>\n",
       "                        <td id=\"T_5130a55a_32db_11eb_a953_9828a6044abcrow4_col5\" class=\"data row4 col5\" >0.123607</td>\n",
       "                        <td id=\"T_5130a55a_32db_11eb_a953_9828a6044abcrow4_col6\" class=\"data row4 col6\" >0.078916</td>\n",
       "                        <td id=\"T_5130a55a_32db_11eb_a953_9828a6044abcrow4_col7\" class=\"data row4 col7\" >0.005585</td>\n",
       "            </tr>\n",
       "            <tr>\n",
       "                        <th id=\"T_5130a55a_32db_11eb_a953_9828a6044abclevel0_row5\" class=\"row_heading level0 row5\" >vote_count</th>\n",
       "                        <td id=\"T_5130a55a_32db_11eb_a953_9828a6044abcrow5_col0\" class=\"data row5 col0\" >0.676642</td>\n",
       "                        <td id=\"T_5130a55a_32db_11eb_a953_9828a6044abcrow5_col1\" class=\"data row5 col1\" >-0.064903</td>\n",
       "                        <td id=\"T_5130a55a_32db_11eb_a953_9828a6044abcrow5_col2\" class=\"data row5 col2\" >0.812022</td>\n",
       "                        <td id=\"T_5130a55a_32db_11eb_a953_9828a6044abcrow5_col3\" class=\"data row5 col3\" >0.113539</td>\n",
       "                        <td id=\"T_5130a55a_32db_11eb_a953_9828a6044abcrow5_col4\" class=\"data row5 col4\" >0.123607</td>\n",
       "                        <td id=\"T_5130a55a_32db_11eb_a953_9828a6044abcrow5_col5\" class=\"data row5 col5\" >1.000000</td>\n",
       "                        <td id=\"T_5130a55a_32db_11eb_a953_9828a6044abcrow5_col6\" class=\"data row5 col6\" >0.775756</td>\n",
       "                        <td id=\"T_5130a55a_32db_11eb_a953_9828a6044abcrow5_col7\" class=\"data row5 col7\" >0.003602</td>\n",
       "            </tr>\n",
       "            <tr>\n",
       "                        <th id=\"T_5130a55a_32db_11eb_a953_9828a6044abclevel0_row6\" class=\"row_heading level0 row6\" >actual_profit</th>\n",
       "                        <td id=\"T_5130a55a_32db_11eb_a953_9828a6044abcrow6_col0\" class=\"data row6 col0\" >0.614339</td>\n",
       "                        <td id=\"T_5130a55a_32db_11eb_a953_9828a6044abcrow6_col1\" class=\"data row6 col1\" >-0.053950</td>\n",
       "                        <td id=\"T_5130a55a_32db_11eb_a953_9828a6044abcrow6_col2\" class=\"data row6 col2\" >0.976896</td>\n",
       "                        <td id=\"T_5130a55a_32db_11eb_a953_9828a6044abcrow6_col3\" class=\"data row6 col3\" >0.083189</td>\n",
       "                        <td id=\"T_5130a55a_32db_11eb_a953_9828a6044abcrow6_col4\" class=\"data row6 col4\" >0.078916</td>\n",
       "                        <td id=\"T_5130a55a_32db_11eb_a953_9828a6044abcrow6_col5\" class=\"data row6 col5\" >0.775756</td>\n",
       "                        <td id=\"T_5130a55a_32db_11eb_a953_9828a6044abcrow6_col6\" class=\"data row6 col6\" >1.000000</td>\n",
       "                        <td id=\"T_5130a55a_32db_11eb_a953_9828a6044abcrow6_col7\" class=\"data row6 col7\" >0.001692</td>\n",
       "            </tr>\n",
       "            <tr>\n",
       "                        <th id=\"T_5130a55a_32db_11eb_a953_9828a6044abclevel0_row7\" class=\"row_heading level0 row7\" >profit_ratio</th>\n",
       "                        <td id=\"T_5130a55a_32db_11eb_a953_9828a6044abcrow7_col0\" class=\"data row7 col0\" >-0.002132</td>\n",
       "                        <td id=\"T_5130a55a_32db_11eb_a953_9828a6044abcrow7_col1\" class=\"data row7 col1\" >-0.006758</td>\n",
       "                        <td id=\"T_5130a55a_32db_11eb_a953_9828a6044abcrow7_col2\" class=\"data row7 col2\" >0.000794</td>\n",
       "                        <td id=\"T_5130a55a_32db_11eb_a953_9828a6044abcrow7_col3\" class=\"data row7 col3\" >0.000901</td>\n",
       "                        <td id=\"T_5130a55a_32db_11eb_a953_9828a6044abcrow7_col4\" class=\"data row7 col4\" >0.005585</td>\n",
       "                        <td id=\"T_5130a55a_32db_11eb_a953_9828a6044abcrow7_col5\" class=\"data row7 col5\" >0.003602</td>\n",
       "                        <td id=\"T_5130a55a_32db_11eb_a953_9828a6044abcrow7_col6\" class=\"data row7 col6\" >0.001692</td>\n",
       "                        <td id=\"T_5130a55a_32db_11eb_a953_9828a6044abcrow7_col7\" class=\"data row7 col7\" >1.000000</td>\n",
       "            </tr>\n",
       "    </tbody></table>"
      ],
      "text/plain": [
       "<pandas.io.formats.style.Styler at 0x1a9916686a0>"
      ]
     },
     "execution_count": 23,
     "metadata": {},
     "output_type": "execute_result"
    }
   ],
   "source": [
    "cor=df.corr()\n",
    "cor.style.background_gradient(cmap='coolwarm')"
   ]
  },
  {
   "cell_type": "code",
   "execution_count": 24,
   "metadata": {},
   "outputs": [],
   "source": [
    "#so actual_profit is more corelated than profiy_ratio"
   ]
  },
  {
   "cell_type": "code",
   "execution_count": 25,
   "metadata": {
    "scrolled": true
   },
   "outputs": [
    {
     "data": {
      "text/plain": [
       "<matplotlib.axes._subplots.AxesSubplot at 0x1a992488b70>"
      ]
     },
     "execution_count": 25,
     "metadata": {},
     "output_type": "execute_result"
    },
    {
     "data": {
      "image/png": "[encoded data removed]",
      "text/plain": [
       "<Figure size 432x288 with 2 Axes>"
      ]
     },
     "metadata": {},
     "output_type": "display_data"
    }
   ],
   "source": [
    "sns.heatmap(df.corr(),annot=True)"
   ]
  },
  {
   "cell_type": "markdown",
   "metadata": {},
   "source": [
    "## Data Visualization"
   ]
  },
  {
   "cell_type": "code",
   "execution_count": 26,
   "metadata": {},
   "outputs": [],
   "source": [
    "import matplotlib.pyplot as plt\n",
    "%matplotlib inline"
   ]
  },
  {
   "cell_type": "code",
   "execution_count": 27,
   "metadata": {},
   "outputs": [],
   "source": [
    "x=np.array(df['vote_average'])\n",
    "y=np.array(df['vote_count'])"
   ]
  },
  {
   "cell_type": "code",
   "execution_count": 28,
   "metadata": {},
   "outputs": [
    {
     "data": {
      "text/plain": [
       "<matplotlib.collections.PathCollection at 0x1a992687128>"
      ]
     },
     "execution_count": 28,
     "metadata": {},
     "output_type": "execute_result"
    },
    {
     "data": {
      "image/png": "[encoded data removed]",
      "text/plain": [
       "<Figure size 432x288 with 1 Axes>"
      ]
     },
     "metadata": {},
     "output_type": "display_data"
    }
   ],
   "source": [
    "plt.xlabel('vote_average')\n",
    "plt.ylabel('vote_count')\n",
    "plt.title('Votes')\n",
    "plt.scatter(x,y)"
   ]
  },
  {
   "cell_type": "code",
   "execution_count": 29,
   "metadata": {},
   "outputs": [
    {
     "data": {
      "text/plain": [
       "<matplotlib.collections.PathCollection at 0x1a9927172e8>"
      ]
     },
     "execution_count": 29,
     "metadata": {},
     "output_type": "execute_result"
    },
    {
     "data": {
      "image/png": "[encoded data removed]",
      "text/plain": [
       "<Figure size 432x288 with 1 Axes>"
      ]
     },
     "metadata": {},
     "output_type": "display_data"
    }
   ],
   "source": [
    "x1=np.array(df['revenue'])\n",
    "y1=np.array(df['vote_average'])\n",
    "plt.xlabel('revenue')\n",
    "plt.ylabel('vote_average')\n",
    "plt.title('Scatter plot')\n",
    "plt.scatter(x1,y1)"
   ]
  },
  {
   "cell_type": "code",
   "execution_count": 30,
   "metadata": {},
   "outputs": [
    {
     "data": {
      "text/plain": [
       "[<matplotlib.lines.Line2D at 0x1a99272be80>]"
      ]
     },
     "execution_count": 30,
     "metadata": {},
     "output_type": "execute_result"
    },
    {
     "data": {
      "image/png": "[encoded data removed]",
      "text/plain": [
       "<Figure size 432x288 with 1 Axes>"
      ]
     },
     "metadata": {},
     "output_type": "display_data"
    }
   ],
   "source": [
    "x2=np.array(df['revenue'])[:200]\n",
    "y2=np.array(df['vote_average'])[:200]\n",
    "plt.xlabel('revenue')\n",
    "plt.ylabel('vote_average')\n",
    "plt.title('Line Plot')\n",
    "plt.plot(x2,y2)"
   ]
  },
  {
   "cell_type": "code",
   "execution_count": 31,
   "metadata": {},
   "outputs": [],
   "source": [
    "df.to_csv(\"res.csv\")##writing clean data back"
   ]
  }
 ],
 "metadata": {
  "kernelspec": {
   "display_name": "Python 3",
   "language": "python",
   "name": "python3"
  },
  "language_info": {
   "codemirror_mode": {
    "name": "ipython",
    "version": 3
   },
   "file_extension": ".py",
   "mimetype": "text/x-python",
   "name": "python",
   "nbconvert_exporter": "python",
   "pygments_lexer": "ipython3",
   "version": "3.6.5"
  }
 },
 "nbformat": 4,
 "nbformat_minor": 2
}
